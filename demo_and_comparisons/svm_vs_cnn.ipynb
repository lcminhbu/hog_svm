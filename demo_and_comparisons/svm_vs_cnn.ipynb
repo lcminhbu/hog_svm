{
  "cells": [
    {
      "cell_type": "code",
      "execution_count": 1,
      "metadata": {
        "id": "aoBm9xW8GX2X"
      },
      "outputs": [],
      "source": [
        "import numpy as np\n",
        "from sklearn.metrics import accuracy_score\n",
        "\n",
        "import time\n",
        "\n",
        "import pandas as pd\n",
        "import matplotlib.pyplot as plt\n",
        "import keras\n",
        "from keras.models import Sequential\n",
        "from keras.layers import Conv2D,Dense,MaxPool2D,Flatten,Dropout"
      ]
    },
    {
      "cell_type": "code",
      "execution_count": 2,
      "metadata": {
        "colab": {
          "base_uri": "https://localhost:8080/"
        },
        "id": "f3UPi6ZsGdQn",
        "outputId": "e5e1ac4d-5cf1-4e46-d84e-c65029c39242"
      },
      "outputs": [
        {
          "name": "stdout",
          "output_type": "stream",
          "text": [
            "Drive already mounted at /content/drive; to attempt to forcibly remount, call drive.mount(\"/content/drive\", force_remount=True).\n"
          ]
        }
      ],
      "source": [
        "from google.colab import drive\n",
        "drive.mount('/content/drive')"
      ]
    },
    {
      "cell_type": "code",
      "execution_count": 3,
      "metadata": {
        "id": "430gdyXyGX2Z"
      },
      "outputs": [],
      "source": [
        "from svm import *\n",
        "from hog_class import *\n",
        "from functions import *"
      ]
    },
    {
      "cell_type": "code",
      "execution_count": 4,
      "metadata": {
        "id": "A-Nc00jgGX2a"
      },
      "outputs": [],
      "source": [
        "cell_size = (8, 8)\n",
        "block_size = (2, 2)\n",
        "nbins = 9\n",
        "threadsperblock = (32,32)\n",
        "hog = HOG_CUDA_2(block_size, cell_size, nbins, 40,threadsperblock )"
      ]
    },
    {
      "cell_type": "code",
      "execution_count": 5,
      "metadata": {
        "id": "C7yAOOjeGX2b"
      },
      "outputs": [],
      "source": [
        "acc_SVM1 = []\n",
        "acc_SVM2 = []\n",
        "acc_CNN = []\n",
        "time_SVM1 = []\n",
        "time_SVM2 = []\n",
        "time_CNN = []"
      ]
    },
    {
      "cell_type": "code",
      "execution_count": 6,
      "metadata": {
        "id": "pnKVMlKaGX2c"
      },
      "outputs": [],
      "source": [
        "n_test = [100, 200, 500, 1000, 1500, 2000,4000,6000]\n",
        "link_cat = \"./drive/MyDrive/LTSS/data2/Cat/**\"\n",
        "link_dog = \"./drive/MyDrive/LTSS/data2/Dog/**\""
      ]
    },
    {
      "cell_type": "code",
      "execution_count": 7,
      "metadata": {
        "colab": {
          "base_uri": "https://localhost:8080/"
        },
        "id": "AKisWWq7GX2d",
        "outputId": "66d3c97e-ec85-4d60-8c61-33cebfcdb9b7"
      },
      "outputs": [
        {
          "name": "stdout",
          "output_type": "stream",
          "text": [
            "Model: \"sequential\"\n",
            "_________________________________________________________________\n",
            " Layer (type)                Output Shape              Param #   \n",
            "=================================================================\n",
            " conv2d (Conv2D)             (None, 124, 124, 64)      4864      \n",
            "                                                                 \n",
            " max_pooling2d (MaxPooling2D  (None, 62, 62, 64)       0         \n",
            " )                                                               \n",
            "                                                                 \n",
            " conv2d_1 (Conv2D)           (None, 58, 58, 32)        51232     \n",
            "                                                                 \n",
            " max_pooling2d_1 (MaxPooling  (None, 29, 29, 32)       0         \n",
            " 2D)                                                             \n",
            "                                                                 \n",
            " dropout (Dropout)           (None, 29, 29, 32)        0         \n",
            "                                                                 \n",
            " conv2d_2 (Conv2D)           (None, 25, 25, 16)        12816     \n",
            "                                                                 \n",
            " max_pooling2d_2 (MaxPooling  (None, 12, 12, 16)       0         \n",
            " 2D)                                                             \n",
            "                                                                 \n",
            " dropout_1 (Dropout)         (None, 12, 12, 16)        0         \n",
            "                                                                 \n",
            " flatten (Flatten)           (None, 2304)              0         \n",
            "                                                                 \n",
            " dense (Dense)               (None, 256)               590080    \n",
            "                                                                 \n",
            " dropout_2 (Dropout)         (None, 256)               0         \n",
            "                                                                 \n",
            " dense_1 (Dense)             (None, 1)                 257       \n",
            "                                                                 \n",
            "=================================================================\n",
            "Total params: 659,249\n",
            "Trainable params: 659,249\n",
            "Non-trainable params: 0\n",
            "_________________________________________________________________\n"
          ]
        }
      ],
      "source": [
        "model = Sequential()\n",
        "model.add(Conv2D(filters = 64, kernel_size = (5,5), activation = \"relu\", input_shape = (128,128,3)))\n",
        "model.add(MaxPool2D(pool_size = (2,2)))\n",
        "model.add(Conv2D(filters = 32, kernel_size = (5,5), activation = \"relu\"))\n",
        "model.add(MaxPool2D(pool_size = (2,2)))\n",
        "model.add(Dropout(0.25))\n",
        "model.add(Conv2D(filters = 16, kernel_size = (5,5), activation = \"relu\"))\n",
        "model.add(MaxPool2D(pool_size = (2,2)))\n",
        "model.add(Dropout(0.25))\n",
        "model.add(Flatten())\n",
        "model.add(Dense(units = 256, activation = \"relu\"))\n",
        "model.add(Dropout(0.5))\n",
        "model.add(Dense(units = 1, activation = \"sigmoid\"))\n",
        "\n",
        "model.compile(optimizer='rmsprop',loss='binary_crossentropy',metrics=['accuracy'])\n",
        "\n",
        "model.summary()"
      ]
    },
    {
      "cell_type": "code",
      "execution_count": 8,
      "metadata": {
        "colab": {
          "base_uri": "https://localhost:8080/"
        },
        "id": "qDbPx16TGX2e",
        "outputId": "17cf99dc-fd0f-47bd-9bd8-0085db1c3ff1",
        "scrolled": true
      },
      "outputs": [
        {
          "name": "stdout",
          "output_type": "stream",
          "text": [
            "100\n",
            "Parallel SVM - linear\n"
          ]
        },
        {
          "name": "stderr",
          "output_type": "stream",
          "text": [
            "/usr/local/lib/python3.10/dist-packages/numba/cuda/dispatcher.py:488: NumbaPerformanceWarning: Grid size 16 will likely result in GPU under-utilization due to low occupancy.\n",
            "  warn(NumbaPerformanceWarning(msg))\n",
            "/usr/local/lib/python3.10/dist-packages/numba/cuda/dispatcher.py:488: NumbaPerformanceWarning: Grid size 16 will likely result in GPU under-utilization due to low occupancy.\n",
            "  warn(NumbaPerformanceWarning(msg))\n",
            "/usr/local/lib/python3.10/dist-packages/numba/cuda/dispatcher.py:488: NumbaPerformanceWarning: Grid size 16 will likely result in GPU under-utilization due to low occupancy.\n",
            "  warn(NumbaPerformanceWarning(msg))\n",
            "/usr/local/lib/python3.10/dist-packages/numba/cuda/dispatcher.py:488: NumbaPerformanceWarning: Grid size 1 will likely result in GPU under-utilization due to low occupancy.\n",
            "  warn(NumbaPerformanceWarning(msg))\n",
            "/usr/local/lib/python3.10/dist-packages/numba/cuda/dispatcher.py:488: NumbaPerformanceWarning: Grid size 1 will likely result in GPU under-utilization due to low occupancy.\n",
            "  warn(NumbaPerformanceWarning(msg))\n",
            "/usr/local/lib/python3.10/dist-packages/numba/cuda/dispatcher.py:488: NumbaPerformanceWarning: Grid size 9 will likely result in GPU under-utilization due to low occupancy.\n",
            "  warn(NumbaPerformanceWarning(msg))\n",
            "/usr/local/lib/python3.10/dist-packages/numba/cuda/dispatcher.py:488: NumbaPerformanceWarning: Grid size 3 will likely result in GPU under-utilization due to low occupancy.\n",
            "  warn(NumbaPerformanceWarning(msg))\n",
            "/usr/local/lib/python3.10/dist-packages/numba/cuda/dispatcher.py:488: NumbaPerformanceWarning: Grid size 3 will likely result in GPU under-utilization due to low occupancy.\n",
            "  warn(NumbaPerformanceWarning(msg))\n"
          ]
        },
        {
          "name": "stdout",
          "output_type": "stream",
          "text": [
            "Parallel SVM - rbf\n"
          ]
        },
        {
          "name": "stderr",
          "output_type": "stream",
          "text": [
            "/usr/local/lib/python3.10/dist-packages/numba/cuda/dispatcher.py:488: NumbaPerformanceWarning: Grid size 9 will likely result in GPU under-utilization due to low occupancy.\n",
            "  warn(NumbaPerformanceWarning(msg))\n",
            "/usr/local/lib/python3.10/dist-packages/numba/cuda/dispatcher.py:488: NumbaPerformanceWarning: Grid size 3 will likely result in GPU under-utilization due to low occupancy.\n",
            "  warn(NumbaPerformanceWarning(msg))\n"
          ]
        },
        {
          "name": "stdout",
          "output_type": "stream",
          "text": [
            "CNN\n",
            "Epoch 1/20\n",
            "3/3 [==============================] - 12s 125ms/step - loss: 57.4958 - accuracy: 0.5714\n",
            "Epoch 2/20\n",
            "3/3 [==============================] - 0s 18ms/step - loss: 24.6773 - accuracy: 0.5143\n",
            "Epoch 3/20\n",
            "3/3 [==============================] - 0s 17ms/step - loss: 3.9697 - accuracy: 0.5429\n",
            "Epoch 4/20\n",
            "3/3 [==============================] - 0s 17ms/step - loss: 0.9563 - accuracy: 0.6286\n",
            "Epoch 5/20\n",
            "3/3 [==============================] - 0s 17ms/step - loss: 0.7229 - accuracy: 0.5571\n",
            "Epoch 6/20\n",
            "3/3 [==============================] - 0s 17ms/step - loss: 0.9210 - accuracy: 0.6286\n",
            "Epoch 7/20\n",
            "3/3 [==============================] - 0s 17ms/step - loss: 0.8338 - accuracy: 0.5714\n",
            "Epoch 8/20\n",
            "3/3 [==============================] - 0s 17ms/step - loss: 0.9568 - accuracy: 0.4429\n",
            "Epoch 9/20\n",
            "3/3 [==============================] - 0s 18ms/step - loss: 1.6588 - accuracy: 0.5000\n",
            "Epoch 10/20\n",
            "3/3 [==============================] - 0s 18ms/step - loss: 0.7409 - accuracy: 0.5429\n",
            "Epoch 11/20\n",
            "3/3 [==============================] - 0s 17ms/step - loss: 0.7204 - accuracy: 0.5857\n",
            "Epoch 12/20\n",
            "3/3 [==============================] - 0s 17ms/step - loss: 0.7001 - accuracy: 0.5857\n",
            "Epoch 13/20\n",
            "3/3 [==============================] - 0s 18ms/step - loss: 0.6335 - accuracy: 0.6286\n",
            "Epoch 14/20\n",
            "3/3 [==============================] - 0s 17ms/step - loss: 0.7777 - accuracy: 0.5143\n",
            "Epoch 15/20\n",
            "3/3 [==============================] - 0s 17ms/step - loss: 0.6857 - accuracy: 0.6000\n",
            "Epoch 16/20\n",
            "3/3 [==============================] - 0s 17ms/step - loss: 0.7194 - accuracy: 0.5857\n",
            "Epoch 17/20\n",
            "3/3 [==============================] - 0s 21ms/step - loss: 0.6354 - accuracy: 0.5429\n",
            "Epoch 18/20\n",
            "3/3 [==============================] - 0s 17ms/step - loss: 0.5971 - accuracy: 0.5714\n",
            "Epoch 19/20\n",
            "3/3 [==============================] - 0s 17ms/step - loss: 0.6473 - accuracy: 0.6857\n",
            "Epoch 20/20\n",
            "3/3 [==============================] - 0s 16ms/step - loss: 0.7781 - accuracy: 0.5714\n",
            "1/1 [==============================] - 0s 338ms/step\n",
            "200\n",
            "Parallel SVM - linear\n"
          ]
        },
        {
          "name": "stderr",
          "output_type": "stream",
          "text": [
            "/usr/local/lib/python3.10/dist-packages/numba/cuda/dispatcher.py:488: NumbaPerformanceWarning: Grid size 25 will likely result in GPU under-utilization due to low occupancy.\n",
            "  warn(NumbaPerformanceWarning(msg))\n",
            "/usr/local/lib/python3.10/dist-packages/numba/cuda/dispatcher.py:488: NumbaPerformanceWarning: Grid size 5 will likely result in GPU under-utilization due to low occupancy.\n",
            "  warn(NumbaPerformanceWarning(msg))\n",
            "/usr/local/lib/python3.10/dist-packages/numba/cuda/dispatcher.py:488: NumbaPerformanceWarning: Grid size 10 will likely result in GPU under-utilization due to low occupancy.\n",
            "  warn(NumbaPerformanceWarning(msg))\n"
          ]
        },
        {
          "name": "stdout",
          "output_type": "stream",
          "text": [
            "Parallel SVM - rbf\n"
          ]
        },
        {
          "name": "stderr",
          "output_type": "stream",
          "text": [
            "/usr/local/lib/python3.10/dist-packages/numba/cuda/dispatcher.py:488: NumbaPerformanceWarning: Grid size 25 will likely result in GPU under-utilization due to low occupancy.\n",
            "  warn(NumbaPerformanceWarning(msg))\n"
          ]
        },
        {
          "name": "stdout",
          "output_type": "stream",
          "text": [
            "CNN\n",
            "Epoch 1/20\n",
            "3/5 [=================>............] - ETA: 0s - loss: 1.0893 - accuracy: 0.5312"
          ]
        },
        {
          "name": "stderr",
          "output_type": "stream",
          "text": [
            "/usr/local/lib/python3.10/dist-packages/numba/cuda/dispatcher.py:488: NumbaPerformanceWarning: Grid size 10 will likely result in GPU under-utilization due to low occupancy.\n",
            "  warn(NumbaPerformanceWarning(msg))\n"
          ]
        },
        {
          "name": "stdout",
          "output_type": "stream",
          "text": [
            "5/5 [==============================] - 1s 123ms/step - loss: 1.3451 - accuracy: 0.5214\n",
            "Epoch 2/20\n",
            "5/5 [==============================] - 0s 23ms/step - loss: 0.7010 - accuracy: 0.5143\n",
            "Epoch 3/20\n",
            "5/5 [==============================] - 0s 22ms/step - loss: 0.7161 - accuracy: 0.5500\n",
            "Epoch 4/20\n",
            "5/5 [==============================] - 0s 22ms/step - loss: 0.6663 - accuracy: 0.5714\n",
            "Epoch 5/20\n",
            "5/5 [==============================] - 0s 25ms/step - loss: 0.6907 - accuracy: 0.5500\n",
            "Epoch 6/20\n",
            "5/5 [==============================] - 0s 22ms/step - loss: 0.6893 - accuracy: 0.6000\n",
            "Epoch 7/20\n",
            "5/5 [==============================] - 0s 22ms/step - loss: 0.6716 - accuracy: 0.5571\n",
            "Epoch 8/20\n",
            "5/5 [==============================] - 0s 22ms/step - loss: 0.6673 - accuracy: 0.5786\n",
            "Epoch 9/20\n",
            "5/5 [==============================] - 0s 23ms/step - loss: 0.6557 - accuracy: 0.5643\n",
            "Epoch 10/20\n",
            "5/5 [==============================] - 0s 22ms/step - loss: 2.7089 - accuracy: 0.5571\n",
            "Epoch 11/20\n",
            "5/5 [==============================] - 0s 22ms/step - loss: 0.6738 - accuracy: 0.5286\n",
            "Epoch 12/20\n",
            "5/5 [==============================] - 0s 22ms/step - loss: 0.6691 - accuracy: 0.5000\n",
            "Epoch 13/20\n",
            "5/5 [==============================] - 0s 23ms/step - loss: 0.6561 - accuracy: 0.5286\n",
            "Epoch 14/20\n",
            "5/5 [==============================] - 0s 22ms/step - loss: 0.6493 - accuracy: 0.5857\n",
            "Epoch 15/20\n",
            "5/5 [==============================] - 0s 22ms/step - loss: 0.6251 - accuracy: 0.5714\n",
            "Epoch 16/20\n",
            "5/5 [==============================] - 0s 22ms/step - loss: 0.6499 - accuracy: 0.5571\n",
            "Epoch 17/20\n",
            "5/5 [==============================] - 0s 22ms/step - loss: 0.6316 - accuracy: 0.6286\n",
            "Epoch 18/20\n",
            "5/5 [==============================] - 0s 23ms/step - loss: 1.6564 - accuracy: 0.5714\n",
            "Epoch 19/20\n",
            "5/5 [==============================] - 0s 22ms/step - loss: 0.6530 - accuracy: 0.5571\n",
            "Epoch 20/20\n",
            "5/5 [==============================] - 0s 24ms/step - loss: 0.6412 - accuracy: 0.5714\n",
            "2/2 [==============================] - 0s 321ms/step\n"
          ]
        },
        {
          "name": "stderr",
          "output_type": "stream",
          "text": [
            "/usr/local/lib/python3.10/dist-packages/PIL/TiffImagePlugin.py:819: UserWarning: Truncated File Read\n",
            "  warnings.warn(str(msg))\n"
          ]
        },
        {
          "name": "stdout",
          "output_type": "stream",
          "text": [
            "500\n",
            "Parallel SVM - linear\n"
          ]
        },
        {
          "name": "stderr",
          "output_type": "stream",
          "text": [
            "/usr/local/lib/python3.10/dist-packages/numba/cuda/dispatcher.py:488: NumbaPerformanceWarning: Grid size 121 will likely result in GPU under-utilization due to low occupancy.\n",
            "  warn(NumbaPerformanceWarning(msg))\n",
            "/usr/local/lib/python3.10/dist-packages/numba/cuda/dispatcher.py:488: NumbaPerformanceWarning: Grid size 11 will likely result in GPU under-utilization due to low occupancy.\n",
            "  warn(NumbaPerformanceWarning(msg))\n",
            "/usr/local/lib/python3.10/dist-packages/numba/cuda/dispatcher.py:488: NumbaPerformanceWarning: Grid size 55 will likely result in GPU under-utilization due to low occupancy.\n",
            "  warn(NumbaPerformanceWarning(msg))\n"
          ]
        },
        {
          "name": "stdout",
          "output_type": "stream",
          "text": [
            "Parallel SVM - rbf\n"
          ]
        },
        {
          "name": "stderr",
          "output_type": "stream",
          "text": [
            "/usr/local/lib/python3.10/dist-packages/numba/cuda/dispatcher.py:488: NumbaPerformanceWarning: Grid size 121 will likely result in GPU under-utilization due to low occupancy.\n",
            "  warn(NumbaPerformanceWarning(msg))\n"
          ]
        },
        {
          "name": "stdout",
          "output_type": "stream",
          "text": [
            "CNN\n",
            "Epoch 1/20\n",
            " 1/11 [=>............................] - ETA: 0s - loss: 0.6891 - accuracy: 0.5938"
          ]
        },
        {
          "name": "stderr",
          "output_type": "stream",
          "text": [
            "/usr/local/lib/python3.10/dist-packages/numba/cuda/dispatcher.py:488: NumbaPerformanceWarning: Grid size 55 will likely result in GPU under-utilization due to low occupancy.\n",
            "  warn(NumbaPerformanceWarning(msg))\n"
          ]
        },
        {
          "name": "stdout",
          "output_type": "stream",
          "text": [
            "11/11 [==============================] - 1s 62ms/step - loss: 0.7536 - accuracy: 0.5429\n",
            "Epoch 2/20\n",
            "11/11 [==============================] - 0s 25ms/step - loss: 0.7198 - accuracy: 0.5314\n",
            "Epoch 3/20\n",
            "11/11 [==============================] - 0s 25ms/step - loss: 0.6982 - accuracy: 0.5314\n",
            "Epoch 4/20\n",
            "11/11 [==============================] - 0s 25ms/step - loss: 0.6943 - accuracy: 0.5200\n",
            "Epoch 5/20\n",
            "11/11 [==============================] - 0s 25ms/step - loss: 0.6902 - accuracy: 0.5200\n",
            "Epoch 6/20\n",
            "11/11 [==============================] - 0s 25ms/step - loss: 0.8343 - accuracy: 0.5229\n",
            "Epoch 7/20\n",
            "11/11 [==============================] - 0s 25ms/step - loss: 0.7001 - accuracy: 0.5143\n",
            "Epoch 8/20\n",
            "11/11 [==============================] - 0s 24ms/step - loss: 0.7003 - accuracy: 0.5114\n",
            "Epoch 9/20\n",
            "11/11 [==============================] - 0s 24ms/step - loss: 0.9301 - accuracy: 0.5314\n",
            "Epoch 10/20\n",
            "11/11 [==============================] - 0s 26ms/step - loss: 0.6918 - accuracy: 0.5200\n",
            "Epoch 11/20\n",
            "11/11 [==============================] - 0s 25ms/step - loss: 0.6886 - accuracy: 0.5143\n",
            "Epoch 12/20\n",
            "11/11 [==============================] - 0s 25ms/step - loss: 0.7047 - accuracy: 0.5429\n",
            "Epoch 13/20\n",
            "11/11 [==============================] - 0s 25ms/step - loss: 0.6772 - accuracy: 0.5571\n",
            "Epoch 14/20\n",
            "11/11 [==============================] - 0s 26ms/step - loss: 0.6781 - accuracy: 0.5314\n",
            "Epoch 15/20\n",
            "11/11 [==============================] - 0s 25ms/step - loss: 0.6712 - accuracy: 0.5571\n",
            "Epoch 16/20\n",
            "11/11 [==============================] - 0s 25ms/step - loss: 0.7092 - accuracy: 0.5543\n",
            "Epoch 17/20\n",
            "11/11 [==============================] - 0s 25ms/step - loss: 0.6763 - accuracy: 0.5743\n",
            "Epoch 18/20\n",
            "11/11 [==============================] - 0s 25ms/step - loss: 0.6845 - accuracy: 0.5657\n",
            "Epoch 19/20\n",
            "11/11 [==============================] - 0s 24ms/step - loss: 0.6660 - accuracy: 0.5800\n",
            "Epoch 20/20\n",
            "11/11 [==============================] - 0s 24ms/step - loss: 0.6506 - accuracy: 0.5943\n",
            "5/5 [==============================] - 0s 77ms/step\n"
          ]
        },
        {
          "name": "stderr",
          "output_type": "stream",
          "text": [
            "/usr/local/lib/python3.10/dist-packages/PIL/TiffImagePlugin.py:819: UserWarning: Truncated File Read\n",
            "  warnings.warn(str(msg))\n"
          ]
        },
        {
          "name": "stdout",
          "output_type": "stream",
          "text": [
            "1000\n",
            "Parallel SVM - linear\n"
          ]
        },
        {
          "name": "stderr",
          "output_type": "stream",
          "text": [
            "/usr/local/lib/python3.10/dist-packages/numba/cuda/dispatcher.py:488: NumbaPerformanceWarning: Grid size 22 will likely result in GPU under-utilization due to low occupancy.\n",
            "  warn(NumbaPerformanceWarning(msg))\n"
          ]
        },
        {
          "name": "stdout",
          "output_type": "stream",
          "text": [
            "Parallel SVM - rbf\n",
            "CNN\n",
            "Epoch 1/20\n",
            "18/18 [==============================] - 1s 63ms/step - loss: 0.7428 - accuracy: 0.5250 - val_loss: 0.6843 - val_accuracy: 0.5786\n",
            "Epoch 2/20\n",
            "18/18 [==============================] - 0s 26ms/step - loss: 0.7702 - accuracy: 0.5500 - val_loss: 0.6913 - val_accuracy: 0.5429\n",
            "Epoch 3/20\n",
            "18/18 [==============================] - 0s 28ms/step - loss: 0.6842 - accuracy: 0.5071 - val_loss: 0.7199 - val_accuracy: 0.6071\n",
            "Epoch 4/20\n",
            "18/18 [==============================] - 0s 26ms/step - loss: 0.7216 - accuracy: 0.5250 - val_loss: 0.6919 - val_accuracy: 0.5429\n",
            "Epoch 5/20\n",
            "18/18 [==============================] - 0s 26ms/step - loss: 0.6852 - accuracy: 0.5143 - val_loss: 0.6896 - val_accuracy: 0.5571\n",
            "Epoch 6/20\n",
            "18/18 [==============================] - 1s 28ms/step - loss: 0.6895 - accuracy: 0.5321 - val_loss: 0.6894 - val_accuracy: 0.5500\n",
            "Epoch 7/20\n",
            "18/18 [==============================] - 0s 28ms/step - loss: 0.6802 - accuracy: 0.5375 - val_loss: 0.6944 - val_accuracy: 0.5429\n",
            "Epoch 8/20\n",
            "18/18 [==============================] - 0s 26ms/step - loss: 0.7282 - accuracy: 0.5464 - val_loss: 0.7144 - val_accuracy: 0.5857\n",
            "Epoch 9/20\n",
            "18/18 [==============================] - 0s 26ms/step - loss: 0.6962 - accuracy: 0.5321 - val_loss: 0.6946 - val_accuracy: 0.5429\n",
            "Epoch 10/20\n",
            "18/18 [==============================] - 0s 26ms/step - loss: 0.6996 - accuracy: 0.5250 - val_loss: 0.6846 - val_accuracy: 0.5714\n",
            "Epoch 11/20\n",
            "18/18 [==============================] - 0s 26ms/step - loss: 0.6942 - accuracy: 0.5375 - val_loss: 0.6772 - val_accuracy: 0.5714\n",
            "Epoch 12/20\n",
            "18/18 [==============================] - 0s 26ms/step - loss: 0.6831 - accuracy: 0.5357 - val_loss: 0.6806 - val_accuracy: 0.5714\n",
            "Epoch 13/20\n",
            "18/18 [==============================] - 1s 28ms/step - loss: 0.6854 - accuracy: 0.5089 - val_loss: 0.6837 - val_accuracy: 0.5571\n",
            "Epoch 14/20\n",
            "18/18 [==============================] - 0s 26ms/step - loss: 0.6576 - accuracy: 0.5304 - val_loss: 0.6967 - val_accuracy: 0.5714\n",
            "Epoch 15/20\n",
            "18/18 [==============================] - 1s 29ms/step - loss: 0.6719 - accuracy: 0.5232 - val_loss: 0.6932 - val_accuracy: 0.5357\n",
            "Epoch 16/20\n",
            "18/18 [==============================] - 1s 28ms/step - loss: 0.7292 - accuracy: 0.5161 - val_loss: 0.6948 - val_accuracy: 0.5500\n",
            "Epoch 17/20\n",
            "18/18 [==============================] - 0s 26ms/step - loss: 0.6675 - accuracy: 0.4929 - val_loss: 0.7080 - val_accuracy: 0.5714\n",
            "Epoch 18/20\n",
            "18/18 [==============================] - 0s 26ms/step - loss: 0.6910 - accuracy: 0.5161 - val_loss: 0.6800 - val_accuracy: 0.5571\n",
            "Epoch 19/20\n",
            "18/18 [==============================] - 0s 26ms/step - loss: 0.6708 - accuracy: 0.5357 - val_loss: 0.6977 - val_accuracy: 0.5500\n",
            "Epoch 20/20\n",
            "18/18 [==============================] - 0s 27ms/step - loss: 0.6924 - accuracy: 0.5036 - val_loss: 0.7013 - val_accuracy: 0.5500\n",
            "10/10 [==============================] - 0s 7ms/step\n"
          ]
        },
        {
          "name": "stderr",
          "output_type": "stream",
          "text": [
            "/usr/local/lib/python3.10/dist-packages/PIL/TiffImagePlugin.py:819: UserWarning: Truncated File Read\n",
            "  warnings.warn(str(msg))\n"
          ]
        },
        {
          "name": "stdout",
          "output_type": "stream",
          "text": [
            "1500\n",
            "Parallel SVM - linear\n"
          ]
        },
        {
          "name": "stderr",
          "output_type": "stream",
          "text": [
            "/usr/local/lib/python3.10/dist-packages/numba/cuda/dispatcher.py:488: NumbaPerformanceWarning: Grid size 33 will likely result in GPU under-utilization due to low occupancy.\n",
            "  warn(NumbaPerformanceWarning(msg))\n"
          ]
        },
        {
          "name": "stdout",
          "output_type": "stream",
          "text": [
            "Parallel SVM - rbf\n",
            "CNN\n",
            "Epoch 1/20\n",
            "27/27 [==============================] - 1s 45ms/step - loss: 0.6999 - accuracy: 0.5042 - val_loss: 0.6885 - val_accuracy: 0.4905\n",
            "Epoch 2/20\n",
            "27/27 [==============================] - 1s 29ms/step - loss: 0.6863 - accuracy: 0.5089 - val_loss: 0.6874 - val_accuracy: 0.4905\n",
            "Epoch 3/20\n",
            "27/27 [==============================] - 1s 28ms/step - loss: 0.6972 - accuracy: 0.5173 - val_loss: 0.7382 - val_accuracy: 0.5000\n",
            "Epoch 4/20\n",
            "27/27 [==============================] - 1s 28ms/step - loss: 0.6930 - accuracy: 0.5352 - val_loss: 0.6718 - val_accuracy: 0.5143\n",
            "Epoch 5/20\n",
            "27/27 [==============================] - 1s 28ms/step - loss: 0.7091 - accuracy: 0.5340 - val_loss: 0.6902 - val_accuracy: 0.4952\n",
            "Epoch 6/20\n",
            "27/27 [==============================] - 1s 27ms/step - loss: 0.6820 - accuracy: 0.5244 - val_loss: 0.6674 - val_accuracy: 0.5143\n",
            "Epoch 7/20\n",
            "27/27 [==============================] - 1s 26ms/step - loss: 0.7160 - accuracy: 0.5399 - val_loss: 0.6927 - val_accuracy: 0.4857\n",
            "Epoch 8/20\n",
            "27/27 [==============================] - 1s 27ms/step - loss: 0.6918 - accuracy: 0.5459 - val_loss: 0.6916 - val_accuracy: 0.4905\n",
            "Epoch 9/20\n",
            "27/27 [==============================] - 1s 27ms/step - loss: 0.7030 - accuracy: 0.5352 - val_loss: 0.6754 - val_accuracy: 0.5143\n",
            "Epoch 10/20\n",
            "27/27 [==============================] - 1s 26ms/step - loss: 0.6824 - accuracy: 0.5340 - val_loss: 0.6905 - val_accuracy: 0.4905\n",
            "Epoch 11/20\n",
            "27/27 [==============================] - 1s 26ms/step - loss: 0.7050 - accuracy: 0.5459 - val_loss: 0.6853 - val_accuracy: 0.5000\n",
            "Epoch 12/20\n",
            "27/27 [==============================] - 1s 27ms/step - loss: 0.6807 - accuracy: 0.5375 - val_loss: 0.6896 - val_accuracy: 0.4905\n",
            "Epoch 13/20\n",
            "27/27 [==============================] - 1s 27ms/step - loss: 0.6890 - accuracy: 0.5328 - val_loss: 0.6868 - val_accuracy: 0.4905\n",
            "Epoch 14/20\n",
            "27/27 [==============================] - 1s 27ms/step - loss: 0.6837 - accuracy: 0.5244 - val_loss: 0.6804 - val_accuracy: 0.5048\n",
            "Epoch 15/20\n",
            "27/27 [==============================] - 1s 27ms/step - loss: 0.6808 - accuracy: 0.5232 - val_loss: 0.6886 - val_accuracy: 0.4952\n",
            "Epoch 16/20\n",
            "27/27 [==============================] - 1s 26ms/step - loss: 0.6852 - accuracy: 0.5268 - val_loss: 0.6875 - val_accuracy: 0.4952\n",
            "Epoch 17/20\n",
            "27/27 [==============================] - 1s 27ms/step - loss: 0.6837 - accuracy: 0.5173 - val_loss: 0.6804 - val_accuracy: 0.4952\n",
            "Epoch 18/20\n",
            "27/27 [==============================] - 1s 26ms/step - loss: 0.7081 - accuracy: 0.5423 - val_loss: 2.2762 - val_accuracy: 0.5143\n",
            "Epoch 19/20\n",
            "27/27 [==============================] - 1s 27ms/step - loss: 0.7678 - accuracy: 0.5316 - val_loss: 0.6874 - val_accuracy: 0.4905\n",
            "Epoch 20/20\n",
            "27/27 [==============================] - 1s 29ms/step - loss: 0.6782 - accuracy: 0.5232 - val_loss: 0.6846 - val_accuracy: 0.4952\n",
            "15/15 [==============================] - 0s 14ms/step\n"
          ]
        },
        {
          "name": "stderr",
          "output_type": "stream",
          "text": [
            "/usr/local/lib/python3.10/dist-packages/PIL/TiffImagePlugin.py:819: UserWarning: Truncated File Read\n",
            "  warnings.warn(str(msg))\n"
          ]
        },
        {
          "name": "stdout",
          "output_type": "stream",
          "text": [
            "2000\n",
            "Parallel SVM - linear\n"
          ]
        },
        {
          "name": "stderr",
          "output_type": "stream",
          "text": [
            "/usr/local/lib/python3.10/dist-packages/numba/cuda/dispatcher.py:488: NumbaPerformanceWarning: Grid size 44 will likely result in GPU under-utilization due to low occupancy.\n",
            "  warn(NumbaPerformanceWarning(msg))\n"
          ]
        },
        {
          "name": "stdout",
          "output_type": "stream",
          "text": [
            "Parallel SVM - rbf\n",
            "CNN\n",
            "Epoch 1/20\n",
            "35/35 [==============================] - 1s 35ms/step - loss: 0.7268 - accuracy: 0.5125 - val_loss: 0.6864 - val_accuracy: 0.5214\n",
            "Epoch 2/20\n",
            "35/35 [==============================] - 1s 27ms/step - loss: 0.6950 - accuracy: 0.5116 - val_loss: 0.6904 - val_accuracy: 0.5143\n",
            "Epoch 3/20\n",
            "35/35 [==============================] - 1s 26ms/step - loss: 0.6946 - accuracy: 0.4893 - val_loss: 0.6906 - val_accuracy: 0.5143\n",
            "Epoch 4/20\n",
            "35/35 [==============================] - 1s 26ms/step - loss: 0.6932 - accuracy: 0.5081 - val_loss: 0.6866 - val_accuracy: 0.5250\n",
            "Epoch 5/20\n",
            "35/35 [==============================] - 1s 28ms/step - loss: 0.6966 - accuracy: 0.4982 - val_loss: 0.6879 - val_accuracy: 0.5214\n",
            "Epoch 6/20\n",
            "35/35 [==============================] - 1s 29ms/step - loss: 0.6912 - accuracy: 0.5009 - val_loss: 0.6923 - val_accuracy: 0.5179\n",
            "Epoch 7/20\n",
            "35/35 [==============================] - 1s 28ms/step - loss: 0.6924 - accuracy: 0.4875 - val_loss: 0.6912 - val_accuracy: 0.5179\n",
            "Epoch 8/20\n",
            "35/35 [==============================] - 1s 28ms/step - loss: 0.6965 - accuracy: 0.5197 - val_loss: 0.6839 - val_accuracy: 0.5250\n",
            "Epoch 9/20\n",
            "35/35 [==============================] - 1s 26ms/step - loss: 0.6996 - accuracy: 0.5134 - val_loss: 0.6882 - val_accuracy: 0.5179\n",
            "Epoch 10/20\n",
            "35/35 [==============================] - 1s 26ms/step - loss: 0.6854 - accuracy: 0.5179 - val_loss: 0.6839 - val_accuracy: 0.5250\n",
            "Epoch 11/20\n",
            "35/35 [==============================] - 1s 26ms/step - loss: 0.7070 - accuracy: 0.5152 - val_loss: 0.6862 - val_accuracy: 0.5214\n",
            "Epoch 12/20\n",
            "35/35 [==============================] - 1s 27ms/step - loss: 0.7029 - accuracy: 0.5009 - val_loss: 0.6842 - val_accuracy: 0.5250\n",
            "Epoch 13/20\n",
            "35/35 [==============================] - 1s 27ms/step - loss: 0.7185 - accuracy: 0.5098 - val_loss: 0.6817 - val_accuracy: 0.5286\n",
            "Epoch 14/20\n",
            "35/35 [==============================] - 1s 27ms/step - loss: 0.7605 - accuracy: 0.5018 - val_loss: 0.6788 - val_accuracy: 0.5321\n",
            "Epoch 15/20\n",
            "35/35 [==============================] - 1s 27ms/step - loss: 0.6994 - accuracy: 0.5072 - val_loss: 0.6810 - val_accuracy: 0.5250\n",
            "Epoch 16/20\n",
            "35/35 [==============================] - 1s 27ms/step - loss: 0.6775 - accuracy: 0.5116 - val_loss: 0.6773 - val_accuracy: 0.5321\n",
            "Epoch 17/20\n",
            "35/35 [==============================] - 1s 27ms/step - loss: 0.6786 - accuracy: 0.5286 - val_loss: 0.6859 - val_accuracy: 0.5214\n",
            "Epoch 18/20\n",
            "35/35 [==============================] - 1s 27ms/step - loss: 0.6827 - accuracy: 0.5000 - val_loss: 0.6785 - val_accuracy: 0.5321\n",
            "Epoch 19/20\n",
            "35/35 [==============================] - 1s 28ms/step - loss: 0.7124 - accuracy: 0.5331 - val_loss: 0.6802 - val_accuracy: 0.5286\n",
            "Epoch 20/20\n",
            "35/35 [==============================] - 1s 29ms/step - loss: 0.6797 - accuracy: 0.5286 - val_loss: 0.6763 - val_accuracy: 0.5357\n",
            "19/19 [==============================] - 0s 5ms/step\n"
          ]
        },
        {
          "name": "stderr",
          "output_type": "stream",
          "text": [
            "/usr/local/lib/python3.10/dist-packages/PIL/TiffImagePlugin.py:819: UserWarning: Truncated File Read\n",
            "  warnings.warn(str(msg))\n"
          ]
        },
        {
          "name": "stdout",
          "output_type": "stream",
          "text": [
            "4000\n",
            "Parallel SVM - linear\n"
          ]
        },
        {
          "name": "stderr",
          "output_type": "stream",
          "text": [
            "/usr/local/lib/python3.10/dist-packages/numba/cuda/dispatcher.py:488: NumbaPerformanceWarning: Grid size 88 will likely result in GPU under-utilization due to low occupancy.\n",
            "  warn(NumbaPerformanceWarning(msg))\n"
          ]
        },
        {
          "name": "stdout",
          "output_type": "stream",
          "text": [
            "Parallel SVM - rbf\n",
            "CNN\n",
            "Epoch 1/20\n",
            "70/70 [==============================] - 2s 26ms/step - loss: 0.7006 - accuracy: 0.5018 - val_loss: 0.6917 - val_accuracy: 0.5107\n",
            "Epoch 2/20\n",
            "70/70 [==============================] - 2s 25ms/step - loss: 0.7102 - accuracy: 0.5022 - val_loss: 0.6918 - val_accuracy: 0.5107\n",
            "Epoch 3/20\n",
            "70/70 [==============================] - 2s 26ms/step - loss: 0.7066 - accuracy: 0.4839 - val_loss: 0.6838 - val_accuracy: 0.5232\n",
            "Epoch 4/20\n",
            "70/70 [==============================] - 2s 26ms/step - loss: 0.7127 - accuracy: 0.5031 - val_loss: 0.6917 - val_accuracy: 0.5125\n",
            "Epoch 5/20\n",
            "70/70 [==============================] - 2s 27ms/step - loss: 0.7089 - accuracy: 0.5031 - val_loss: 0.6874 - val_accuracy: 0.5179\n",
            "Epoch 6/20\n",
            "70/70 [==============================] - 2s 29ms/step - loss: 0.6864 - accuracy: 0.5107 - val_loss: 0.6902 - val_accuracy: 0.5125\n",
            "Epoch 7/20\n",
            "70/70 [==============================] - 2s 26ms/step - loss: 0.6951 - accuracy: 0.5147 - val_loss: 0.6889 - val_accuracy: 0.5161\n",
            "Epoch 8/20\n",
            "70/70 [==============================] - 2s 26ms/step - loss: 0.6988 - accuracy: 0.5130 - val_loss: 0.6920 - val_accuracy: 0.5214\n",
            "Epoch 9/20\n",
            "70/70 [==============================] - 2s 26ms/step - loss: 0.7024 - accuracy: 0.5098 - val_loss: 0.6875 - val_accuracy: 0.5179\n",
            "Epoch 10/20\n",
            "70/70 [==============================] - 2s 27ms/step - loss: 0.6861 - accuracy: 0.5013 - val_loss: 0.6874 - val_accuracy: 0.5161\n",
            "Epoch 11/20\n",
            "70/70 [==============================] - 2s 27ms/step - loss: 0.7033 - accuracy: 0.5116 - val_loss: 0.6893 - val_accuracy: 0.5125\n",
            "Epoch 12/20\n",
            "70/70 [==============================] - 2s 27ms/step - loss: 0.6910 - accuracy: 0.5027 - val_loss: 0.6908 - val_accuracy: 0.5107\n",
            "Epoch 13/20\n",
            "70/70 [==============================] - 2s 28ms/step - loss: 0.7041 - accuracy: 0.5210 - val_loss: 0.6874 - val_accuracy: 0.5161\n",
            "Epoch 14/20\n",
            "70/70 [==============================] - 2s 27ms/step - loss: 0.6920 - accuracy: 0.5116 - val_loss: 0.6905 - val_accuracy: 0.5125\n",
            "Epoch 15/20\n",
            "70/70 [==============================] - 2s 26ms/step - loss: 0.6884 - accuracy: 0.5013 - val_loss: 0.6989 - val_accuracy: 0.5089\n",
            "Epoch 16/20\n",
            "70/70 [==============================] - 2s 27ms/step - loss: 0.6996 - accuracy: 0.5058 - val_loss: 0.6984 - val_accuracy: 0.5107\n",
            "Epoch 17/20\n",
            "70/70 [==============================] - 2s 27ms/step - loss: 0.6824 - accuracy: 0.5054 - val_loss: 0.7138 - val_accuracy: 0.5125\n",
            "Epoch 18/20\n",
            "70/70 [==============================] - 2s 28ms/step - loss: 0.6895 - accuracy: 0.5156 - val_loss: 0.6901 - val_accuracy: 0.5107\n",
            "Epoch 19/20\n",
            "70/70 [==============================] - 2s 27ms/step - loss: 0.6951 - accuracy: 0.5054 - val_loss: 0.6923 - val_accuracy: 0.5089\n",
            "Epoch 20/20\n",
            "70/70 [==============================] - 2s 28ms/step - loss: 0.7266 - accuracy: 0.5022 - val_loss: 0.6837 - val_accuracy: 0.5268\n",
            "38/38 [==============================] - 0s 6ms/step\n"
          ]
        },
        {
          "name": "stderr",
          "output_type": "stream",
          "text": [
            "/usr/local/lib/python3.10/dist-packages/PIL/TiffImagePlugin.py:819: UserWarning: Truncated File Read\n",
            "  warnings.warn(str(msg))\n"
          ]
        },
        {
          "name": "stdout",
          "output_type": "stream",
          "text": [
            "6000\n",
            "Parallel SVM - linear\n",
            "Parallel SVM - rbf\n",
            "CNN\n",
            "Epoch 1/20\n",
            "105/105 [==============================] - 3s 30ms/step - loss: 0.7085 - accuracy: 0.5051 - val_loss: 0.6925 - val_accuracy: 0.5131\n",
            "Epoch 2/20\n",
            "105/105 [==============================] - 3s 27ms/step - loss: 0.6917 - accuracy: 0.5039 - val_loss: 0.6937 - val_accuracy: 0.5250\n",
            "Epoch 3/20\n",
            "105/105 [==============================] - 3s 26ms/step - loss: 0.6998 - accuracy: 0.5003 - val_loss: 0.6922 - val_accuracy: 0.5202\n",
            "Epoch 4/20\n",
            "105/105 [==============================] - 3s 28ms/step - loss: 0.7144 - accuracy: 0.5208 - val_loss: 0.6906 - val_accuracy: 0.5155\n",
            "Epoch 5/20\n",
            "105/105 [==============================] - 3s 26ms/step - loss: 0.6921 - accuracy: 0.5176 - val_loss: 0.6915 - val_accuracy: 0.5143\n",
            "Epoch 6/20\n",
            "105/105 [==============================] - 3s 28ms/step - loss: 0.6976 - accuracy: 0.5173 - val_loss: 0.6906 - val_accuracy: 0.5167\n",
            "Epoch 7/20\n",
            "105/105 [==============================] - 3s 26ms/step - loss: 0.7069 - accuracy: 0.5060 - val_loss: 0.6910 - val_accuracy: 0.5143\n",
            "Epoch 8/20\n",
            "105/105 [==============================] - 3s 26ms/step - loss: 0.6985 - accuracy: 0.5080 - val_loss: 0.6911 - val_accuracy: 0.5155\n",
            "Epoch 9/20\n",
            "105/105 [==============================] - 3s 28ms/step - loss: 0.6902 - accuracy: 0.5104 - val_loss: 0.7110 - val_accuracy: 0.5298\n",
            "Epoch 10/20\n",
            "105/105 [==============================] - 3s 29ms/step - loss: 0.7034 - accuracy: 0.5173 - val_loss: 0.6893 - val_accuracy: 0.5155\n",
            "Epoch 11/20\n",
            "105/105 [==============================] - 3s 30ms/step - loss: 0.7056 - accuracy: 0.5143 - val_loss: 0.7065 - val_accuracy: 0.5202\n",
            "Epoch 12/20\n",
            "105/105 [==============================] - 3s 28ms/step - loss: 0.7055 - accuracy: 0.5134 - val_loss: 0.6839 - val_accuracy: 0.5250\n",
            "Epoch 13/20\n",
            "105/105 [==============================] - 3s 29ms/step - loss: 0.7444 - accuracy: 0.5134 - val_loss: 0.6920 - val_accuracy: 0.5190\n",
            "Epoch 14/20\n",
            "105/105 [==============================] - 3s 27ms/step - loss: 0.7115 - accuracy: 0.5131 - val_loss: 0.6908 - val_accuracy: 0.5143\n",
            "Epoch 15/20\n",
            "105/105 [==============================] - 3s 29ms/step - loss: 0.6936 - accuracy: 0.5083 - val_loss: 0.6893 - val_accuracy: 0.5190\n",
            "Epoch 16/20\n",
            "105/105 [==============================] - 3s 28ms/step - loss: 0.7114 - accuracy: 0.5116 - val_loss: 0.6903 - val_accuracy: 0.5143\n",
            "Epoch 17/20\n",
            "105/105 [==============================] - 3s 27ms/step - loss: 0.6916 - accuracy: 0.5104 - val_loss: 0.6879 - val_accuracy: 0.5190\n",
            "Epoch 18/20\n",
            "105/105 [==============================] - 3s 29ms/step - loss: 0.6934 - accuracy: 0.5054 - val_loss: 0.6895 - val_accuracy: 0.5155\n",
            "Epoch 19/20\n",
            "105/105 [==============================] - 3s 30ms/step - loss: 0.6929 - accuracy: 0.5086 - val_loss: 0.6901 - val_accuracy: 0.5155\n",
            "Epoch 20/20\n",
            "105/105 [==============================] - 3s 28ms/step - loss: 0.6918 - accuracy: 0.5134 - val_loss: 0.6898 - val_accuracy: 0.5155\n",
            "57/57 [==============================] - 0s 6ms/step\n"
          ]
        }
      ],
      "source": [
        "for n in n_test:\n",
        "    X_train, y_train, X_test, y_test = read_data(link_cat, link_dog, n_samples = n, image_size = (128, 128))\n",
        "    \n",
        "    print(n)\n",
        "    print(\"Parallel SVM - linear\")\n",
        "    start = time.time()\n",
        "    svm = SVM_Pa(kernel = 'linear')\n",
        "    big_fit(X_train, y_train, hog, svm)\n",
        "    pred = big_predict(X_test, hog, svm)\n",
        "    end = time.time()\n",
        "    time_SVM1.append(end-start)\n",
        "    acc_SVM1.append(accuracy_score(pred, y_test))\n",
        "    \n",
        "    print(\"Parallel SVM - rbf\")\n",
        "    start = time.time()\n",
        "    svm = SVM_Pa(kernel=\"rbf\")\n",
        "    big_fit(X_train, y_train, hog, svm)\n",
        "    pred = big_predict(X_test, hog, svm)\n",
        "    end = time.time()\n",
        "    time_SVM2.append(end-start)\n",
        "    acc_SVM2.append(accuracy_score(pred, y_test))\n",
        "    \n",
        "    print(\"CNN\")\n",
        "    y_train = np.array([0 if i == -1 else 1 for i in y_train])\n",
        "    y_test = np.array([0 if i == -1 else 1 for i in y_test])\n",
        "    if X_train.shape[0] < 400:\n",
        "        start = time.time()\n",
        "        model.fit(X_train, y_train, epochs = 20)\n",
        "        pred = model.predict(X_test)\n",
        "        end  = time.time()\n",
        "        pred = pred.round(0).astype(int)\n",
        "        time_CNN.append(end-start)\n",
        "        acc_CNN.append(accuracy_score(pred, y_test))\n",
        "    else:\n",
        "        X_train,X_val,y_train,y_val = train_test_split(X_train, y_train, test_size=0.2, random_state = 42)\n",
        "        start = time.time()\n",
        "        model.fit(X_train, y_train,validation_data = (X_val,y_val), epochs = 20)\n",
        "        pred = model.predict(X_test)\n",
        "        pred = pred.round(0).astype(int)\n",
        "        end = time.time()\n",
        "        time_CNN.append(end-start)\n",
        "        acc_CNN.append(accuracy_score(pred, y_test))\n",
        "    \n",
        "    "
      ]
    },
    {
      "cell_type": "code",
      "execution_count": 9,
      "metadata": {
        "colab": {
          "base_uri": "https://localhost:8080/",
          "height": 474
        },
        "id": "tn_aPwgeGX2f",
        "outputId": "0affe3ed-2f29-43b9-8d47-0ff0ff3d093e"
      },
      "outputs": [
        {
          "data": {
            "image/png": "[encoded data removed]",
            "text/plain": [
              "<Figure size 640x480 with 1 Axes>"
            ]
          },
          "metadata": {},
          "output_type": "display_data"
        }
      ],
      "source": [
        "plt.plot(n_test, acc_SVM1 , label = 'SVM - linear')\n",
        "plt.plot(n_test, acc_SVM2, label = 'SVM - rbf')\n",
        "plt.plot(n_test, acc_CNN, label = 'CNN')\n",
        "plt.xlabel(\"Số lượng mẫu\")\n",
        "plt.ylabel(\"Accuracy\")\n",
        "plt.title(\"So sánh độ chính xác các model với CNN\")\n",
        "plt.legend()\n",
        "plt.show()"
      ]
    },
    {
      "cell_type": "code",
      "execution_count": 31,
      "metadata": {
        "colab": {
          "base_uri": "https://localhost:8080/",
          "height": 474
        },
        "id": "KYYUBT7AGX2h",
        "outputId": "b1505492-2ee6-453f-dac7-9c77a44e6239"
      },
      "outputs": [
        {
          "data": {
            "image/png": "[encoded data removed]",
            "text/plain": [
              "<Figure size 640x480 with 1 Axes>"
            ]
          },
          "metadata": {},
          "output_type": "display_data"
        }
      ],
      "source": [
        "plt.plot(n_test, time_SVM1, label = 'SVM - linear')\n",
        "plt.plot(n_test, time_SVM2, label = 'SVM - rbf')\n",
        "plt.plot(n_test, time_CNN, label = 'CNN')\n",
        "plt.xlabel(\"Số lượng mẫu\")\n",
        "plt.ylabel(\"Thời gian (s)\")\n",
        "plt.title(\"So sánh thời gian các model với CNN\")\n",
        "plt.legend()\n",
        "plt.show()"
      ]
    },
    {
      "cell_type": "code",
      "execution_count": 15,
      "metadata": {
        "colab": {
          "base_uri": "https://localhost:8080/"
        },
        "id": "OSQM_2mOhrUu",
        "outputId": "12347fbb-bb54-48bd-fc26-9fcc851b9b7e"
      },
      "outputs": [
        {
          "data": {
            "text/plain": [
              "[PhysicalDevice(name='/physical_device:GPU:0', device_type='GPU')]"
            ]
          },
          "execution_count": 15,
          "metadata": {},
          "output_type": "execute_result"
        }
      ],
      "source": [
        "import tensorflow as tf\n",
        "tf.config.list_physical_devices('GPU')"
      ]
    },
    {
      "attachments": {},
      "cell_type": "markdown",
      "metadata": {},
      "source": [
        "# Nhận xét:\n",
        "\n",
        "- Ta thấy SVM + HOG cho ra độ chính xác cao hơn hẳn CNN tại mọi số mẫu khác nhau.\n",
        "- Thuật toán SVM với kernel RBF có xu hướng cho độ chính xác tăng dần khi số lượng dữ liệu tăng\n",
        "\n",
        "    Trong khi kernel linear có dấu hiệu chững lại và hơi giảm xuống, kể cả vậy nó vẫn cao hơn nhiều so với CNN\n",
        "- CNN cho độ chính xác trung bình trong khoảng 0.51 0.52. Tuy nhiên dữ liệu test là cân bằng (50-50 giữa 2 lớp) nên việc ra độ chính xác 0.51 là vô cùng thấp.\n",
        "- CNN của tensorflow chạy trên GPU cho tốc độ nhỉnh hơn RBF 1 tí ở khoảng > 2000 mẫu. (lần báo cáo trước nhóm chạy CNN trên CPU)\n",
        "- Số lượng mẫu càng lớn thì kernel linear càng khó hội tụ nên thời gian chạy lâu hơn."
      ]
    }
  ],
  "metadata": {
    "accelerator": "GPU",
    "colab": {
      "gpuType": "T4",
      "provenance": []
    },
    "kernelspec": {
      "display_name": "Python 3",
      "name": "python3"
    },
    "language_info": {
      "codemirror_mode": {
        "name": "ipython",
        "version": 3
      },
      "file_extension": ".py",
      "mimetype": "text/x-python",
      "name": "python",
      "nbconvert_exporter": "python",
      "pygments_lexer": "ipython3",
      "version": "3.9.16"
    }
  },
  "nbformat": 4,
  "nbformat_minor": 0
}
